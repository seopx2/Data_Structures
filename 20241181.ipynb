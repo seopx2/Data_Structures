{
  "nbformat": 4,
  "nbformat_minor": 0,
  "metadata": {
    "colab": {
      "provenance": []
    },
    "kernelspec": {
      "name": "python3",
      "display_name": "Python 3"
    },
    "language_info": {
      "name": "python"
    }
  },
  "cells": [
    {
      "cell_type": "markdown",
      "source": [
        "# 1. LeetCode 225. Implement Stack using Queues"
      ],
      "metadata": {
        "id": "gQr8gSsJATwt"
      }
    },
    {
      "cell_type": "code",
      "source": [
        "from collections import deque\n",
        "\n",
        "class MyStack(object):\n",
        "\n",
        "    def __init__(self):\n",
        "        self.q = deque()\n",
        "\n",
        "    def push(self, x):\n",
        "        self.q.append(x)\n",
        "        for _ in range(len(self.q)-1):\n",
        "            self.q.append(self.q.popleft())\n",
        "\n",
        "    def pop(self):\n",
        "        return self.q.popleft()\n",
        "\n",
        "    def top(self):\n",
        "        return self.q[0]\n",
        "\n",
        "    def empty(self):\n",
        "        return not self.q"
      ],
      "metadata": {
        "id": "Bz0dokJN2NPW"
      },
      "execution_count": null,
      "outputs": []
    },
    {
      "cell_type": "markdown",
      "source": [
        "# 2. LeetCode 232. Implement Queue using Stacks"
      ],
      "metadata": {
        "id": "bexrKBFjAdcm"
      }
    },
    {
      "cell_type": "code",
      "source": [
        "class MyQueue(object):\n",
        "\n",
        "    def __init__(self):\n",
        "        self.in_stack = []\n",
        "        self.out_stack = []\n",
        "\n",
        "    def push(self, x):\n",
        "        self.in_stack.append(x)\n",
        "\n",
        "    def pop(self):\n",
        "        self.peek()\n",
        "        return self.out_stack.pop()\n",
        "\n",
        "    def peek(self):\n",
        "        if not self.out_stack:\n",
        "            while self.in_stack:\n",
        "                self.out_stack.append(self.in_stack.pop())\n",
        "        return self.out_stack[-1]\n",
        "\n",
        "    def empty(self):\n",
        "        return not self.in_stack and not self.out_stack"
      ],
      "metadata": {
        "id": "IMk9BSb8Ai75"
      },
      "execution_count": null,
      "outputs": []
    },
    {
      "cell_type": "markdown",
      "source": [
        "# 3. 교재의 큐 연습문제\n",
        "01."
      ],
      "metadata": {
        "id": "0DFNx7xNDhPF"
      }
    },
    {
      "cell_type": "code",
      "source": [
        "class ListQueue:\n",
        "    def __init__(self):\n",
        "        self.__queue = []\n",
        "\n",
        "    def enqueue(self, x):\n",
        "        self.__queue.insert(0, x)\n",
        "\n",
        "    def dequeue(self):\n",
        "        return self.__queue.pop()\n",
        "\n",
        "    def front(self):\n",
        "        return self.__queue[-1]\n",
        "\n",
        "    def isEmpty(self) -> bool:\n",
        "        return len(self.__queue) == 0\n",
        "\n",
        "    def dequeueAll(self):\n",
        "        self.__queue.clear()\n"
      ],
      "metadata": {
        "id": "wY-sZCYdEFA_"
      },
      "execution_count": null,
      "outputs": []
    },
    {
      "cell_type": "markdown",
      "source": [
        "02."
      ],
      "metadata": {
        "id": "FcNBIHOtEs_L"
      }
    },
    {
      "cell_type": "code",
      "source": [
        "from collections import deque\n",
        "\n",
        "def isMirrorString(s):\n",
        "    q = deque()\n",
        "    i = 0\n",
        "\n",
        "    while i < len(s) and s[i] != '$':\n",
        "        q.append(s[i])\n",
        "        i += 1\n",
        "\n",
        "    i += 1\n",
        "\n",
        "    while i < len(s):\n",
        "        if not q or s[i] != q.pop():\n",
        "            return False\n",
        "        i += 1\n",
        "\n",
        "    return len(q) == 0\n",
        "\n",
        "## 예시\n",
        "print(isMirrorString(\"abc$cba\"))  # True\n",
        "print(isMirrorString(\"ab$ab\"))  # False"
      ],
      "metadata": {
        "id": "tL143uMbEuI2"
      },
      "execution_count": null,
      "outputs": []
    },
    {
      "cell_type": "markdown",
      "source": [
        "03."
      ],
      "metadata": {
        "id": "VtxwepyQFKdQ"
      }
    },
    {
      "cell_type": "code",
      "source": [
        "def copyLinkedQueue(a: LinkedQueue) -> LinkedQueue:\n",
        "    b = LinkedQueue()\n",
        "    for i in range(a.size()):\n",
        "      item = a.get(i)\n",
        "      b.enqueue(item)\n",
        "    return b"
      ],
      "metadata": {
        "id": "n7cwi6QcFLm4"
      },
      "execution_count": null,
      "outputs": []
    },
    {
      "cell_type": "markdown",
      "source": [
        "- LinkedQueue의 a와 동일한 값을 가지는 새로운 큐 b를 생성하여 반환한다. 단, b는 깊은 복사를 수행하는 독립적인 객체이다.\n"
      ],
      "metadata": {
        "id": "hTuXL9Xw8kJ3"
      }
    },
    {
      "cell_type": "markdown",
      "source": [
        "04."
      ],
      "metadata": {
        "id": "LfJqWTI7FbJV"
      }
    },
    {
      "cell_type": "code",
      "source": [
        "from collections import deque\n",
        "\n",
        "class StackWith2Queues:\n",
        "    def __init__(self):\n",
        "        self.q1 = deque()\n",
        "        self.q2 = deque()\n",
        "\n",
        "    def push(self, x):\n",
        "        self.q2.append(x)\n",
        "        while self.q1:\n",
        "            self.q2.append(self.q1.popleft())\n",
        "        self.q1, self.q2 = self.q2, self.q1\n",
        "\n",
        "    def pop(self):\n",
        "        if self.q1:\n",
        "            return self.q1.popleft()\n",
        "        return None"
      ],
      "metadata": {
        "id": "jxgHIZATFcQA"
      },
      "execution_count": null,
      "outputs": []
    },
    {
      "cell_type": "markdown",
      "source": [
        "05."
      ],
      "metadata": {
        "id": "Hbg-p2nUFfwr"
      }
    },
    {
      "cell_type": "code",
      "source": [
        "class QueueWith2Stacks:\n",
        "    def __init__(self):\n",
        "        self.in_stack = []\n",
        "        self.out_stack = []\n",
        "\n",
        "    def enqueue(self, x):\n",
        "        self.in_stack.append(x)\n",
        "\n",
        "    def dequeue(self):\n",
        "        if not self.out_stack:\n",
        "            while self.in_stack:\n",
        "                self.out_stack.append(self.in_stack.pop())\n",
        "        return self.out_stack.pop() if self.out_stack else None"
      ],
      "metadata": {
        "id": "C9GZHTZkFh49"
      },
      "execution_count": null,
      "outputs": []
    },
    {
      "cell_type": "markdown",
      "source": [
        "06."
      ],
      "metadata": {
        "id": "bwBSygODFnmS"
      }
    },
    {
      "cell_type": "markdown",
      "source": [
        "enqueue(x)는 append를 이용하여 큐의 뒤에 삽입하고, dequeue()는 pop(0)을 이용하여 큐의 앞에서 삭제한다. CircularLinkedList는 원형 연결 리스트이고 tail 포인터를 유지한다면 다음과 같이 고려할 수 있다. enqueue(x)는 마지막 노드인 tail을 이용해 바로 뒤에 추가한다면 포인터 변경을 한번만 실행하면 되기 때문에 O(1)이다. dequeue() 또한 맨 앞에 위치한 head의 포인터로 바로 삭제하면 되기 때문에 O(1)이다.\n",
        "- enqueue(x) : **O(1)**\n",
        "- dequeue() : **O(1)**"
      ],
      "metadata": {
        "id": "VUcpdb-gPGnh"
      }
    },
    {
      "cell_type": "markdown",
      "source": [
        "07."
      ],
      "metadata": {
        "id": "mHR6qRGwFr9W"
      }
    },
    {
      "cell_type": "markdown",
      "source": [
        "LinkedListBasic은 단일 연결리스트인데, 이 리스트에서는 head만 유지하고 tail은 유지하지 않는다. 따라서 리스트의 맨 끝에 접근하기 위해서는 순회가 필요하다. enqueue(x)의 경우에는 getNode(n-1)로 맨 끝 노드까지 순회하고나서 삽입하므로 수행시간은 O(n)이다. dequeue()의 경우에는 head 바로 다음의 노드를 삭제하면 되므로 O(1)이다.\n",
        "- enqueue(x) : **O(n)**\n",
        "- dequeue() : **O(1)**"
      ],
      "metadata": {
        "id": "KX7qq2vkw3Ia"
      }
    },
    {
      "cell_type": "markdown",
      "source": [
        "08."
      ],
      "metadata": {
        "id": "J1opWRFGF0DP"
      }
    },
    {
      "cell_type": "code",
      "source": [
        "class Deque:\n",
        "    def __init__(self):\n",
        "        self.__deque = []\n",
        "\n",
        "    def addFront(self, item):\n",
        "        self.__deque.append(0, item)\n",
        "\n",
        "    def addRear(self, item):\n",
        "        self.__deque.insert(item)\n",
        "\n",
        "    def deleteFront(self):\n",
        "      if not self.isEmpty():\n",
        "        return self.__deque.pop(0)\n",
        "      return None\n",
        "\n",
        "    def deleteRear(self):\n",
        "      if not self.isEmpty():\n",
        "        return self.__deque.pop()\n",
        "      return None\n",
        "\n",
        "    def front(self):\n",
        "      if not self.isEmpty():\n",
        "        return self.__deque[0]\n",
        "      return None\n",
        "\n",
        "    def rear(self):\n",
        "      if not self.isEmpty():\n",
        "        return self.__deque[-1]\n",
        "      return None\n",
        "\n",
        "    def isEmpty(self):\n",
        "        return len(self.__deque) == 0\n",
        "\n",
        "    def size(self):\n",
        "        return len(self.__deque)\n",
        "\n",
        "    def printDeque(self):\n",
        "      print(\"Deque from front:\", end=' ')\n",
        "      for item in self.__deque:\n",
        "        print(item, end=' ')\n",
        "      print()"
      ],
      "metadata": {
        "id": "UpOP4i8yF1g3"
      },
      "execution_count": null,
      "outputs": []
    }
  ]
}